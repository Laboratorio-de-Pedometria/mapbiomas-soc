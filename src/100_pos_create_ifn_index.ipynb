{
 "cells": [
  {
   "cell_type": "code",
   "execution_count": null,
   "metadata": {},
   "outputs": [],
   "source": [
    "import ee\n",
    "\n",
    "# Initialize the Earth Engine module.\n",
    "ee.Initialize()\n",
    "\n",
    "# Import the FeatureCollection\n",
    "fc = ee.FeatureCollection(\"projects/mapbiomas-workspace/SOLOS/AMOSTRAS/MATRIZES/soil_organic_carbon/matriz-collection1-amazonia-v3\")\n",
    "\n",
    "# Sort and print the column names\n",
    "columns = fc.first().propertyNames().sort()\n",
    "print(columns.getInfo())"
   ]
  },
  {
   "cell_type": "code",
   "execution_count": null,
   "metadata": {},
   "outputs": [],
   "source": [
    "# Create a column called 'target'\n",
    "# If the column id starts with ctb0053, ctb0055, ctb0056, ctb0057, ctb0058, ctb0059, ctb0060,\n",
    "# or ctb0061, set the value of 'target' to 0. Otherwise, set the value of 'target' to 1.\n",
    "def set_target(feature):\n",
    "    id = feature.get('dataset_id')\n",
    "    target = ee.Algorithms.If(\n",
    "        ee.String(id).match('^ctb0053|^ctb0055|^ctb0056|^ctb0057|^ctb0058|^ctb0059|^ctb006[0-1]'),\n",
    "        0,\n",
    "        1\n",
    "    )\n",
    "    return feature.set('target', target)\n",
    "\n",
    "# Map the function over the FeatureCollection\n",
    "fc = fc.map(set_target)\n",
    "\n",
    "# Print the first ten features\n",
    "print(fc.limit(10).getInfo())"
   ]
  },
  {
   "cell_type": "code",
   "execution_count": null,
   "metadata": {},
   "outputs": [],
   "source": [
    "# Print a summary of the 'target' column\n",
    "print(fc.aggregate_histogram('target').getInfo())"
   ]
  },
  {
   "cell_type": "code",
   "execution_count": null,
   "metadata": {},
   "outputs": [],
   "source": [
    "# Save the FeatureCollection to a new asset\n",
    "output_asset_id = 'projects/mapbiomas-workspace/SOLOS/AMOSTRAS/MATRIZES/soil_organic_carbon/matriz-collection1-amazonia-v3-target'\n",
    "task = ee.batch.Export.table.toAsset(collection=fc, description='export_fc', assetId=output_asset_id)\n",
    "task.start()"
   ]
  },
  {
   "cell_type": "code",
   "execution_count": null,
   "metadata": {},
   "outputs": [],
   "source": [
    "# In the fc FeatureCollection, filter the features with target equal to 0\n",
    "fc_0 = fc.filter(ee.Filter.eq('target', 0))\n",
    "\n",
    "# Count the unique values of the 'year' property\n",
    "years = fc_0.aggregate_histogram('year')\n",
    "print(years.getInfo())"
   ]
  }
 ],
 "metadata": {
  "kernelspec": {
   "display_name": "geemap",
   "language": "python",
   "name": "python3"
  },
  "language_info": {
   "name": "python",
   "version": "3.10.12"
  }
 },
 "nbformat": 4,
 "nbformat_minor": 2
}
