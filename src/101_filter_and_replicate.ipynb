{
 "cells": [
  {
   "cell_type": "code",
   "execution_count": 24,
   "metadata": {},
   "outputs": [
    {
     "name": "stdout",
     "output_type": "stream",
     "text": [
      "12663\n",
      "['elevation', 'natural', 'year', 'dataset_id', 'restingas', 'pastagem', 'estoque', 'antropico', 'formacaoSavanica', 'mosaicoDeUsos', 'formacaoCampestre', 'formacaoFlorestal', 'silvicultura', 'Area_Estavel', 'outrasFormacoesFlorestais', 'IFN_index', 'lavouras', 'campoAlagadoAreaPantanosa', 'system:index']\n",
      "0\n",
      "58\n"
     ]
    }
   ],
   "source": [
    "# Filter out features that do not fall in any land use/land cover class\n",
    "\n",
    "# Import the Earth Engine Python Package\n",
    "import ee\n",
    "\n",
    "# Initialize the Earth Engine module.\n",
    "ee.Initialize()\n",
    "\n",
    "# Import the FeatureCollection\n",
    "fc_path = 'projects/mapbiomas-workspace/SOLOS/AMOSTRAS/MATRIZES/soil_organic_carbon/26-11-lulc'\n",
    "fc_original = ee.FeatureCollection(fc_path)\n",
    "\n",
    "# Print the number of features in the FeatureCollection\n",
    "print(fc_original.size().getInfo())\n",
    "\n",
    "# Print the columns of the FeatureCollection\n",
    "print(fc_original.first().propertyNames().getInfo())\n",
    "\n",
    "# Print the minimum and maximum values of the 'natural' property\n",
    "print(fc_original.aggregate_min('natural').getInfo())\n",
    "print(fc_original.aggregate_max('natural').getInfo())"
   ]
  },
  {
   "cell_type": "code",
   "execution_count": 25,
   "metadata": {},
   "outputs": [
    {
     "name": "stdout",
     "output_type": "stream",
     "text": [
      "0\n",
      "58\n"
     ]
    }
   ],
   "source": [
    "# Identify samples with land use/land cover classes\n",
    "\n",
    "# Consider the following properties of the FeatureCollection:\n",
    "# 'campoAlagadoAreaPantanosa', 'formacaoCampestre', 'formacaoFlorestal',\n",
    "# 'formacaoSavanica', 'lavouras', 'mosaicoDeUsos', 'outrasFormacoesFlorestais',\n",
    "# 'pastagem', 'restingas', 'silvicultura'\n",
    "# Create a columns that contains the sum of the values of these properties\n",
    "# and print the result.\n",
    "\n",
    "# Create a list of the properties\n",
    "properties = ['campoAlagadoAreaPantanosa', 'formacaoCampestre', 'formacaoFlorestal',\n",
    "              'formacaoSavanica', 'lavouras', 'mosaicoDeUsos', 'outrasFormacoesFlorestais',\n",
    "              'pastagem', 'restingas', 'silvicultura']\n",
    "\n",
    "# Create a column that contains the sum of the values of the properties\n",
    "fc_original = fc_original.map(lambda feature: feature.set('sum', ee.Number(0)))\n",
    "for property in properties:\n",
    "    fc_original = fc_original.map(lambda feature: feature.set('sum', ee.Number(feature.get('sum')).add(feature.get(property))))\n",
    "                                  \n",
    "# Print the minimum and maximum values of the 'sum' property\n",
    "print(fc_original.aggregate_min('sum').getInfo())\n",
    "print(fc_original.aggregate_max('sum').getInfo())"
   ]
  },
  {
   "cell_type": "code",
   "execution_count": 26,
   "metadata": {},
   "outputs": [
    {
     "name": "stdout",
     "output_type": "stream",
     "text": [
      "12289\n"
     ]
    }
   ],
   "source": [
    "# Drop a feature if the sum of the values of the properties is equal to zero\n",
    "# and print the result.\n",
    "fc_filter = fc_original.filter(ee.Filter.neq('sum', 0))\n",
    "print(fc_filter.size().getInfo())"
   ]
  },
  {
   "cell_type": "code",
   "execution_count": 27,
   "metadata": {},
   "outputs": [
    {
     "name": "stdout",
     "output_type": "stream",
     "text": [
      "0\n",
      "58\n"
     ]
    }
   ],
   "source": [
    "# Replicate samples from natural vegetation classes that are stable over time\n",
    "\n",
    "# Create a columns with the sum of the values of the following properties:\n",
    "# 'formacaoCampestre', 'formacaoFlorestal', 'formacaoSavanica', 'outrasFormacoesFlorestais',\n",
    "# 'restingas', 'campoAlagadoAreaPantanosa'.\n",
    "# Print the result.\n",
    "# Create a list of the properties\n",
    "properties = ['campoAlagadoAreaPantanosa', 'formacaoCampestre', 'formacaoFlorestal',\n",
    "              'formacaoSavanica', 'outrasFormacoesFlorestais', 'restingas']\n",
    "\n",
    "# Create a column that contains the sum of the values of the properties\n",
    "fc_filter = fc_filter.map(lambda feature: feature.set('sum', ee.Number(0)))\n",
    "for property in properties:\n",
    "    fc_filter = fc_filter.map(lambda feature: feature.set('sum', ee.Number(feature.get('sum')).add(feature.get(property))))\n",
    "\n",
    "# Print the minimum and maximum values of the 'sum' property\n",
    "print(fc_filter.aggregate_min('sum').getInfo()) # zero means antropized area\n",
    "print(fc_filter.aggregate_max('sum').getInfo())"
   ]
  },
  {
   "cell_type": "code",
   "execution_count": 28,
   "metadata": {},
   "outputs": [
    {
     "name": "stdout",
     "output_type": "stream",
     "text": [
      "1686\n"
     ]
    }
   ],
   "source": [
    "# Identify the features for which natural > 0 and year > 2004 and sum of the values of the properties is greater than 39\n",
    "# and print the result.\n",
    "fc_stable = fc_filter.filter(ee.Filter.gt('sum', 39)).filter(ee.Filter.gt('year', 2004)).filter(ee.Filter.gt('natural', 0))\n",
    "print(fc_stable.size().getInfo())"
   ]
  },
  {
   "cell_type": "code",
   "execution_count": 29,
   "metadata": {},
   "outputs": [
    {
     "name": "stdout",
     "output_type": "stream",
     "text": [
      "2005\n",
      "2023\n"
     ]
    }
   ],
   "source": [
    "# Print the minimum and maximum values of the 'year' property\n",
    "print(fc_stable.aggregate_min('year').getInfo())\n",
    "print(fc_stable.aggregate_max('year').getInfo())"
   ]
  },
  {
   "cell_type": "code",
   "execution_count": 30,
   "metadata": {},
   "outputs": [
    {
     "name": "stdout",
     "output_type": "stream",
     "text": [
      "40\n",
      "58\n"
     ]
    }
   ],
   "source": [
    "# Print the minimum and maximum values of the 'natural' property\n",
    "print(fc_stable.aggregate_min('natural').getInfo())\n",
    "print(fc_stable.aggregate_max('natural').getInfo())"
   ]
  },
  {
   "cell_type": "code",
   "execution_count": 31,
   "metadata": {},
   "outputs": [
    {
     "name": "stdout",
     "output_type": "stream",
     "text": [
      "0\n",
      "0\n"
     ]
    }
   ],
   "source": [
    "# Print the minimum and maximum values of the 'antropico' property\n",
    "print(fc_stable.aggregate_min('antropico').getInfo())\n",
    "print(fc_stable.aggregate_max('antropico').getInfo())"
   ]
  },
  {
   "cell_type": "code",
   "execution_count": 32,
   "metadata": {},
   "outputs": [
    {
     "name": "stdout",
     "output_type": "stream",
     "text": [
      "15661\n"
     ]
    }
   ],
   "source": [
    "# Subtract 10 from the 'year' property\n",
    "fc_stable_10 = fc_stable.map(lambda feature: feature.set('year', ee.Number(feature.get('year')).subtract(10)))\n",
    "\n",
    "# Subtract 20 from the 'year' property\n",
    "fc_stable_20 = fc_stable.map(lambda feature: feature.set('year', ee.Number(feature.get('year')).subtract(20)))\n",
    "\t\t\t\t\t\t\t \n",
    "# Stack the three FeatureCollections: fc_filter, fc_stable_10, fc_stable_20\n",
    "fc_stacked = fc_filter.merge(fc_stable_10).merge(fc_stable_20)\n",
    "\n",
    "# Print the number of features in the stacked FeatureCollection\n",
    "print(fc_stacked.size().getInfo())"
   ]
  },
  {
   "cell_type": "code",
   "execution_count": 33,
   "metadata": {},
   "outputs": [
    {
     "name": "stdout",
     "output_type": "stream",
     "text": [
      "['ctb0003-sm-dnos-001', 'ctb0003-sm-dnos-002', 'ctb0003-sm-dnos-003', 'ctb0003-sm-dnos-004', 'ctb0003-sm-dnos-005', 'ctb0003-sm-dnos-005', 'ctb0003-sm-dnos-005', 'ctb0003-sm-dnos-006', 'ctb0003-sm-dnos-007', 'ctb0003-sm-dnos-007']\n",
      "[2009, 2009, 2009, 2009, 2009, 1999, 1989, 2009, 2009, 1999]\n"
     ]
    }
   ],
   "source": [
    "# Row order the stacked FeatureCollection by the 'dataset_id' property\n",
    "fc_stacked = fc_stacked.sort('dataset_id')\n",
    "\n",
    "# Print the 'dataset_id' and 'year' properties of the first 10 features in the stacked\n",
    "# FeatureCollection\n",
    "print(fc_stacked.limit(10).aggregate_array('dataset_id').getInfo())\n",
    "print(fc_stacked.limit(10).aggregate_array('year').getInfo())"
   ]
  },
  {
   "cell_type": "code",
   "execution_count": 34,
   "metadata": {},
   "outputs": [
    {
     "name": "stdout",
     "output_type": "stream",
     "text": [
      "1948\n",
      "2023\n"
     ]
    }
   ],
   "source": [
    "# Print the minimum and maximum values of the 'year' property\n",
    "print(fc_stacked.aggregate_min('year').getInfo())\n",
    "print(fc_stacked.aggregate_max('year').getInfo())"
   ]
  },
  {
   "cell_type": "code",
   "execution_count": 36,
   "metadata": {},
   "outputs": [
    {
     "name": "stdout",
     "output_type": "stream",
     "text": [
      "{'state': 'READY', 'description': 'fc_stacked', 'priority': 100, 'creation_timestamp_ms': 1733108519556, 'update_timestamp_ms': 1733108519556, 'start_timestamp_ms': 0, 'task_type': 'EXPORT_FEATURES', 'id': '3Y4G4BTFSXJRIR7B72KYQKOR', 'name': 'projects/846873190609/operations/3Y4G4BTFSXJRIR7B72KYQKOR'}\n"
     ]
    }
   ],
   "source": [
    "# Save the FeatureCollection to a new asset\n",
    "fc_path = 'projects/mapbiomas-workspace/SOLOS/AMOSTRAS/ORIGINAIS/2024-12-01-organic-carbon-stock-gram-per-square-meter-filter-rep'\n",
    "# Keep only the following columns: ['dataset_id', 'year', 'estoque', 'IFN_index']\n",
    "fc_stacked = fc_stacked.select(['dataset_id', 'year', 'estoque', 'IFN_index'])\n",
    "# Export the FeatureCollection\n",
    "task = ee.batch.Export.table.toAsset(collection=fc_stacked, description='fc_stacked', assetId=fc_path)\n",
    "task.start()\n",
    "print(task.status())"
   ]
  },
  {
   "cell_type": "code",
   "execution_count": 41,
   "metadata": {},
   "outputs": [
    {
     "data": {
      "text/html": [
       "<div style=\"width:100%;\"><div style=\"position:relative;width:100%;height:0;padding-bottom:60%;\"><span style=\"color:#565656\">Make this Notebook Trusted to load map: File -> Trust Notebook</span><iframe srcdoc=\"&lt;!DOCTYPE html&gt;\n",
       "&lt;html&gt;\n",
       "&lt;head&gt;\n",
       "    \n",
       "    &lt;meta http-equiv=&quot;content-type&quot; content=&quot;text/html; charset=UTF-8&quot; /&gt;\n",
       "    \n",
       "        &lt;script&gt;\n",
       "            L_NO_TOUCH = false;\n",
       "            L_DISABLE_3D = false;\n",
       "        &lt;/script&gt;\n",
       "    \n",
       "    &lt;style&gt;html, body {width: 100%;height: 100%;margin: 0;padding: 0;}&lt;/style&gt;\n",
       "    &lt;style&gt;#map {position:absolute;top:0;bottom:0;right:0;left:0;}&lt;/style&gt;\n",
       "    &lt;script src=&quot;https://cdn.jsdelivr.net/npm/leaflet@1.9.3/dist/leaflet.js&quot;&gt;&lt;/script&gt;\n",
       "    &lt;script src=&quot;https://code.jquery.com/jquery-3.7.1.min.js&quot;&gt;&lt;/script&gt;\n",
       "    &lt;script src=&quot;https://cdn.jsdelivr.net/npm/bootstrap@5.2.2/dist/js/bootstrap.bundle.min.js&quot;&gt;&lt;/script&gt;\n",
       "    &lt;script src=&quot;https://cdnjs.cloudflare.com/ajax/libs/Leaflet.awesome-markers/2.0.2/leaflet.awesome-markers.js&quot;&gt;&lt;/script&gt;\n",
       "    &lt;link rel=&quot;stylesheet&quot; href=&quot;https://cdn.jsdelivr.net/npm/leaflet@1.9.3/dist/leaflet.css&quot;/&gt;\n",
       "    &lt;link rel=&quot;stylesheet&quot; href=&quot;https://cdn.jsdelivr.net/npm/bootstrap@5.2.2/dist/css/bootstrap.min.css&quot;/&gt;\n",
       "    &lt;link rel=&quot;stylesheet&quot; href=&quot;https://netdna.bootstrapcdn.com/bootstrap/3.0.0/css/bootstrap-glyphicons.css&quot;/&gt;\n",
       "    &lt;link rel=&quot;stylesheet&quot; href=&quot;https://cdn.jsdelivr.net/npm/@fortawesome/fontawesome-free@6.2.0/css/all.min.css&quot;/&gt;\n",
       "    &lt;link rel=&quot;stylesheet&quot; href=&quot;https://cdnjs.cloudflare.com/ajax/libs/Leaflet.awesome-markers/2.0.2/leaflet.awesome-markers.css&quot;/&gt;\n",
       "    &lt;link rel=&quot;stylesheet&quot; href=&quot;https://cdn.jsdelivr.net/gh/python-visualization/folium/folium/templates/leaflet.awesome.rotate.min.css&quot;/&gt;\n",
       "    \n",
       "            &lt;meta name=&quot;viewport&quot; content=&quot;width=device-width,\n",
       "                initial-scale=1.0, maximum-scale=1.0, user-scalable=no&quot; /&gt;\n",
       "            &lt;style&gt;\n",
       "                #map_e2a36c06da982a6d11551c204b79b20d {\n",
       "                    position: relative;\n",
       "                    width: 100.0%;\n",
       "                    height: 100.0%;\n",
       "                    left: 0.0%;\n",
       "                    top: 0.0%;\n",
       "                }\n",
       "                .leaflet-container { font-size: 1rem; }\n",
       "            &lt;/style&gt;\n",
       "        \n",
       "&lt;/head&gt;\n",
       "&lt;body&gt;\n",
       "    \n",
       "    \n",
       "            &lt;div class=&quot;folium-map&quot; id=&quot;map_e2a36c06da982a6d11551c204b79b20d&quot; &gt;&lt;/div&gt;\n",
       "        \n",
       "&lt;/body&gt;\n",
       "&lt;script&gt;\n",
       "    \n",
       "    \n",
       "            var map_e2a36c06da982a6d11551c204b79b20d = L.map(\n",
       "                &quot;map_e2a36c06da982a6d11551c204b79b20d&quot;,\n",
       "                {\n",
       "                    center: [-2.5, -55.0],\n",
       "                    crs: L.CRS.EPSG3857,\n",
       "                    zoom: 5,\n",
       "                    zoomControl: true,\n",
       "                    preferCanvas: false,\n",
       "                }\n",
       "            );\n",
       "\n",
       "            \n",
       "\n",
       "        \n",
       "    \n",
       "            var tile_layer_b68dac9e669b4e471e245c4e4f548d3b = L.tileLayer(\n",
       "                &quot;https://tile.openstreetmap.org/{z}/{x}/{y}.png&quot;,\n",
       "                {&quot;attribution&quot;: &quot;\\u0026copy; \\u003ca href=\\&quot;https://www.openstreetmap.org/copyright\\&quot;\\u003eOpenStreetMap\\u003c/a\\u003e contributors&quot;, &quot;detectRetina&quot;: false, &quot;maxNativeZoom&quot;: 19, &quot;maxZoom&quot;: 19, &quot;minZoom&quot;: 0, &quot;noWrap&quot;: false, &quot;opacity&quot;: 1, &quot;subdomains&quot;: &quot;abc&quot;, &quot;tms&quot;: false}\n",
       "            );\n",
       "        \n",
       "    \n",
       "            tile_layer_b68dac9e669b4e471e245c4e4f548d3b.addTo(map_e2a36c06da982a6d11551c204b79b20d);\n",
       "        \n",
       "    \n",
       "            var tile_layer_683d11f45907b32e0ec9ed95fce7eb95 = L.tileLayer(\n",
       "                &quot;https://earthengine.googleapis.com/v1/projects/846873190609/maps/c1e56dc98a26832005ea5c183495d916-64f791e3a02914d982459ae709b09c4f/tiles/{z}/{x}/{y}&quot;,\n",
       "                {&quot;attribution&quot;: &quot;Google Earth Engine&quot;, &quot;detectRetina&quot;: false, &quot;maxZoom&quot;: 18, &quot;minZoom&quot;: 0, &quot;noWrap&quot;: false, &quot;opacity&quot;: 1, &quot;subdomains&quot;: &quot;abc&quot;, &quot;tms&quot;: false}\n",
       "            );\n",
       "        \n",
       "    \n",
       "            tile_layer_683d11f45907b32e0ec9ed95fce7eb95.addTo(map_e2a36c06da982a6d11551c204b79b20d);\n",
       "        \n",
       "    \n",
       "            var tile_layer_519aac0a5ff082c7e5ac587ed6ee93ff = L.tileLayer(\n",
       "                &quot;https://earthengine.googleapis.com/v1/projects/846873190609/maps/4d561b94c736f1e914dd27e4af66bee8-b01b73ac185339c6904ab5e7be2bc43e/tiles/{z}/{x}/{y}&quot;,\n",
       "                {&quot;attribution&quot;: &quot;Google Earth Engine&quot;, &quot;detectRetina&quot;: false, &quot;maxZoom&quot;: 18, &quot;minZoom&quot;: 0, &quot;noWrap&quot;: false, &quot;opacity&quot;: 1, &quot;subdomains&quot;: &quot;abc&quot;, &quot;tms&quot;: false}\n",
       "            );\n",
       "        \n",
       "    \n",
       "            tile_layer_519aac0a5ff082c7e5ac587ed6ee93ff.addTo(map_e2a36c06da982a6d11551c204b79b20d);\n",
       "        \n",
       "    \n",
       "            var tile_layer_9032279038e344c7d2ea1545a4eac45f = L.tileLayer(\n",
       "                &quot;https://earthengine.googleapis.com/v1/projects/846873190609/maps/cc4cf289a4d6b253f08c3a53b129a35e-0c06f9e2b3a184485b235410ecfadf63/tiles/{z}/{x}/{y}&quot;,\n",
       "                {&quot;attribution&quot;: &quot;Google Earth Engine&quot;, &quot;detectRetina&quot;: false, &quot;maxZoom&quot;: 18, &quot;minZoom&quot;: 0, &quot;noWrap&quot;: false, &quot;opacity&quot;: 1, &quot;subdomains&quot;: &quot;abc&quot;, &quot;tms&quot;: false}\n",
       "            );\n",
       "        \n",
       "    \n",
       "            tile_layer_9032279038e344c7d2ea1545a4eac45f.addTo(map_e2a36c06da982a6d11551c204b79b20d);\n",
       "        \n",
       "    \n",
       "            var layer_control_98cde3ebe6b0cf20d9905872fa0ab09d_layers = {\n",
       "                base_layers : {\n",
       "                    &quot;openstreetmap&quot; : tile_layer_b68dac9e669b4e471e245c4e4f548d3b,\n",
       "                },\n",
       "                overlays :  {\n",
       "                    &quot;Original&quot; : tile_layer_683d11f45907b32e0ec9ed95fce7eb95,\n",
       "                    &quot;Filter&quot; : tile_layer_519aac0a5ff082c7e5ac587ed6ee93ff,\n",
       "                    &quot;Stable&quot; : tile_layer_9032279038e344c7d2ea1545a4eac45f,\n",
       "                },\n",
       "            };\n",
       "            let layer_control_98cde3ebe6b0cf20d9905872fa0ab09d = L.control.layers(\n",
       "                layer_control_98cde3ebe6b0cf20d9905872fa0ab09d_layers.base_layers,\n",
       "                layer_control_98cde3ebe6b0cf20d9905872fa0ab09d_layers.overlays,\n",
       "                {&quot;autoZIndex&quot;: true, &quot;collapsed&quot;: true, &quot;position&quot;: &quot;topright&quot;}\n",
       "            ).addTo(map_e2a36c06da982a6d11551c204b79b20d);\n",
       "\n",
       "        \n",
       "&lt;/script&gt;\n",
       "&lt;/html&gt;\" style=\"position:absolute;width:100%;height:100%;left:0;top:0;border:none !important;\" allowfullscreen webkitallowfullscreen mozallowfullscreen></iframe></div></div>"
      ],
      "text/plain": [
       "<folium.folium.Map at 0x7f2fc6c50670>"
      ]
     },
     "metadata": {},
     "output_type": "display_data"
    }
   ],
   "source": [
    "# Plot a map of the FeatureCollection fc_original, fc_filter (blue), and fc_stable_10 (red)\n",
    "\n",
    "# Import the Folium library.\n",
    "import folium\n",
    "\n",
    "# Define a map centered on the Amazon rainforest.\n",
    "map = folium.Map(location=[-2.5, -55], zoom_start=5)\n",
    "\n",
    "# Add the FeatureCollection fc_original to the map.\n",
    "map.add_ee_layer(fc_original, {}, 'Original')\n",
    "\n",
    "# Add the FeatureCollection fc_filter to the map.\n",
    "map.add_ee_layer(fc_filter, {'color': 'blue'}, 'Filter')\n",
    "\n",
    "# Add the FeatureCollection fc_stable_10 to the map.\n",
    "map.add_ee_layer(fc_stable_10, {'color': 'red'}, 'Stable')\n",
    "\n",
    "# Add a layer control panel to the map.\n",
    "map.add_child(folium.LayerControl())\n",
    "\n",
    "# Display the map.\n",
    "display(map)"
   ]
  }
 ],
 "metadata": {
  "kernelspec": {
   "display_name": "geemap",
   "language": "python",
   "name": "python3"
  },
  "language_info": {
   "codemirror_mode": {
    "name": "ipython",
    "version": 3
   },
   "file_extension": ".py",
   "mimetype": "text/x-python",
   "name": "python",
   "nbconvert_exporter": "python",
   "pygments_lexer": "ipython3",
   "version": "3.10.12"
  }
 },
 "nbformat": 4,
 "nbformat_minor": 2
}
